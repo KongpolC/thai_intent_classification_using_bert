{
 "cells": [
  {
   "cell_type": "markdown",
   "metadata": {
    "colab_type": "text",
    "id": "KJ8wl-4hJ9SE"
   },
   "source": [
    "# Set up"
   ]
  },
  {
   "cell_type": "markdown",
   "metadata": {
    "colab_type": "text",
    "id": "LCi8HRYpKLU_"
   },
   "source": [
    "### > Install and import libraries"
   ]
  },
  {
   "cell_type": "code",
   "execution_count": null,
   "metadata": {
    "colab": {
     "base_uri": "https://localhost:8080/",
     "height": 938
    },
    "colab_type": "code",
    "id": "K5ENji7H_h4H",
    "outputId": "819c265a-692d-4082-a06a-100f23a33272",
    "scrolled": true
   },
   "outputs": [],
   "source": [
    "import os\n",
    "import numpy as np\n",
    "import pandas as pd\n",
    "from sklearn.model_selection import train_test_split\n",
    "from sklearn.metrics import confusion_matrix\n",
    "import matplotlib.pyplot as plt\n",
    "\n",
    "# Since this version of BERT was released before tensorflow 2, \n",
    "# so make sure to use tensorflow-gpu 1.x (took so much longer if run on CPU)\n",
    "os.system('pip install tensorflow-gpu==1.15')\n",
    "\n",
    "# Install sentencepiece >> used for tokenizing Thai senetences\n",
    "os.system('pip install sentencepiece')\n",
    "\n",
    "# Install gdown for downloading files from google drive\n",
    "os.system('pip install gdown')"
   ]
  },
  {
   "cell_type": "markdown",
   "metadata": {
    "colab_type": "text",
    "id": "NtPQrB_UKD68"
   },
   "source": [
    "### > Set GPU"
   ]
  },
  {
   "cell_type": "code",
   "execution_count": null,
   "metadata": {
    "colab": {
     "base_uri": "https://localhost:8080/",
     "height": 306
    },
    "colab_type": "code",
    "id": "t8NQKLo7JGDh",
    "outputId": "a3857d62-1c72-47b9-dba9-d4c298c3bc37"
   },
   "outputs": [],
   "source": [
    "# BERT requires high computation and memory so using free powerful GPU on Colab is going to save a lot of time and money\n",
    "# To enable GPU accelerator: Runtime > change runtime type > under 'hardware accelerator', select GPU > SAVE\n",
    "# Then Colab will reconnect and use this code to check if GPU is enabled. \n",
    "os.system('nvidia-smi')"
   ]
  },
  {
   "cell_type": "markdown",
   "metadata": {
    "colab_type": "text",
    "id": "KYdknG_bbVhY"
   },
   "source": [
    "# Download required files"
   ]
  },
  {
   "cell_type": "markdown",
   "metadata": {
    "colab_type": "text",
    "id": "jqUZBeVvlIYk"
   },
   "source": [
    "### > Thai Pretrained BERT model - bert_base_th (ThAIKeras)"
   ]
  },
  {
   "cell_type": "code",
   "execution_count": null,
   "metadata": {
    "colab": {
     "base_uri": "https://localhost:8080/",
     "height": 85
    },
    "colab_type": "code",
    "id": "bDXjbjZ9dZME",
    "outputId": "41af1085-2ddb-4edf-f8a8-765befbdc92e"
   },
   "outputs": [],
   "source": [
    "os.system('gdown --id 1J3uuXZr_Se_XIFHj7zlTJ-C9wzI9W_ot') # use only id in the link https://drive.google.com/uc?id=1J3uuXZr_Se_XIFHj7zlTJ-C9wzI9W_ot"
   ]
  },
  {
   "cell_type": "code",
   "execution_count": null,
   "metadata": {
    "colab": {
     "base_uri": "https://localhost:8080/",
     "height": 119
    },
    "colab_type": "code",
    "id": "EQCyOgj5mGKp",
    "outputId": "db69098f-b4fa-4470-b385-a2bbb5483cde"
   },
   "outputs": [],
   "source": [
    "os.system('unzip bert_base_th.zip')"
   ]
  },
  {
   "cell_type": "markdown",
   "metadata": {
    "colab_type": "text",
    "id": "Ghw7DcVYlSPm"
   },
   "source": [
    "### > th_wiki_bpe"
   ]
  },
  {
   "cell_type": "code",
   "execution_count": null,
   "metadata": {
    "colab": {
     "base_uri": "https://localhost:8080/",
     "height": 85
    },
    "colab_type": "code",
    "id": "no4UzBQXk3HG",
    "outputId": "2d926b25-8ead-4d90-a3fb-8e3cf527ba57"
   },
   "outputs": [],
   "source": [
    "os.system('gdown --id 1F7pCgt3vPlarI9RxKtOZUrC_67KMNQ1W')"
   ]
  },
  {
   "cell_type": "code",
   "execution_count": null,
   "metadata": {
    "colab": {
     "base_uri": "https://localhost:8080/",
     "height": 68
    },
    "colab_type": "code",
    "id": "etKZMi_2mJ9Q",
    "outputId": "bcd31d26-b23d-4e04-b235-83257b58abab"
   },
   "outputs": [],
   "source": [
    "os.mkdir('th_wiki_bpe')\n",
    "os.system('unzip th_wiki_bpe.zip -d /content/th_wiki_bpe')"
   ]
  },
  {
   "cell_type": "markdown",
   "metadata": {
    "colab_type": "text",
    "id": "_Y_HH_LLltdK"
   },
   "source": [
    "### > Truevoice Intent dataset"
   ]
  },
  {
   "cell_type": "code",
   "execution_count": null,
   "metadata": {
    "colab": {
     "base_uri": "https://localhost:8080/",
     "height": 102
    },
    "colab_type": "code",
    "id": "C1ajeb7vLZ5g",
    "outputId": "2bd21256-9f96-475e-e4ed-8381d26cb29b"
   },
   "outputs": [],
   "source": [
    "os.system('git clone https://github.com/PyThaiNLP/truevoice-intent.git')\n",
    "os.chdir('truevoice-intent')\n",
    "os.system('unzip mari-intent.zip')\n",
    "os.chdir('..')"
   ]
  },
  {
   "cell_type": "markdown",
   "metadata": {
    "colab_type": "text",
    "id": "xgD4DocxlwSt"
   },
   "source": [
    "### > BERT classifier finetuner modified for Thai\n",
    "https://github.com/KongpolC/bert"
   ]
  },
  {
   "cell_type": "code",
   "execution_count": null,
   "metadata": {
    "colab": {
     "base_uri": "https://localhost:8080/",
     "height": 136
    },
    "colab_type": "code",
    "id": "1R3-RYV1poNO",
    "outputId": "304767cd-9ba6-44d1-b9c1-c6adc6671601"
   },
   "outputs": [],
   "source": [
    "os.system('git clone https://github.com/KongpolC/bert.git')"
   ]
  },
  {
   "cell_type": "markdown",
   "metadata": {
    "colab_type": "text",
    "id": "cOthNCVNq-xe"
   },
   "source": [
    "Now you should have these folders in the directory\n",
    "```\n",
    ".\n",
    "|-- bert\n",
    "|-- bert_base_th\n",
    "|-- th_wiki_bpe\n",
    "|-- truevoice-intent\n",
    "```"
   ]
  },
  {
   "cell_type": "markdown",
   "metadata": {
    "colab_type": "text",
    "id": "9JE9rePvz0GJ"
   },
   "source": [
    "# Finetune the model"
   ]
  },
  {
   "cell_type": "code",
   "execution_count": null,
   "metadata": {
    "colab": {},
    "colab_type": "code",
    "id": "VOiJx7EYaoC7"
   },
   "outputs": [],
   "source": [
    "# Create 'model' directory to store the finetuned model\n",
    "os.mkdir('model')"
   ]
  },
  {
   "cell_type": "code",
   "execution_count": null,
   "metadata": {
    "colab": {},
    "colab_type": "code",
    "id": "5n4D1WoV6U3w"
   },
   "outputs": [],
   "source": [
    "# Declare path to parse when finetuning\n",
    "os.environ['BPE_DIR'] = 'th_wiki_bpe' #'/content/th_wiki_bpe'\n",
    "os.environ['DATA_DIR'] = 'truevoice-intent' #'/content/wongnai_data'\n",
    "os.environ['OUTPUT_DIR'] = 'model' #'/content/model'\n",
    "os.environ['BERT_BASE_DIR'] = 'bert_base_th' #'/content/bert_base_th'"
   ]
  },
  {
   "cell_type": "markdown",
   "metadata": {
    "colab_type": "text",
    "id": "guyyQfAxBfbL"
   },
   "source": [
    "If the dataset is larger or your GPU memory is less that it raises OOM >> decrease \"train_batch_size\""
   ]
  },
  {
   "cell_type": "code",
   "execution_count": null,
   "metadata": {
    "colab": {},
    "colab_type": "code",
    "id": "UQQ5vJ8Q-kXM",
    "scrolled": true
   },
   "outputs": [],
   "source": [
    "# Run finetuning\n",
    "!python bert/run_classifier.py \\\n",
    "  --task_name=truevoice \\\n",
    "  --do_train=true \\\n",
    "  --do_eval=true \\\n",
    "  --do_predict=true \\\n",
    "  --data_dir=$DATA_DIR \\\n",
    "  --vocab_file=$BPE_DIR/th.wiki.bpe.op25000.vocab \\\n",
    "  --bert_config_file=$BERT_BASE_DIR/bert_config.json \\\n",
    "  --init_checkpoint=$BERT_BASE_DIR/model.ckpt \\\n",
    "  --max_seq_length=128 \\\n",
    "  --train_batch_size=32 \\\n",
    "  --learning_rate=5e-5 \\\n",
    "  --num_train_epochs=2.0 \\\n",
    "  --output_dir=$OUTPUT_DIR \\\n",
    "  --spm_file=$BPE_DIR/th.wiki.bpe.op25000.model"
   ]
  },
  {
   "cell_type": "markdown",
   "metadata": {},
   "source": [
    "Colab runtime often disconnect and all created files will be lost. It's a good idea to  download prediction results and the latest model automatically once training is completed."
   ]
  },
  {
   "cell_type": "code",
   "execution_count": null,
   "metadata": {
    "colab": {
     "base_uri": "https://localhost:8080/",
     "height": 493
    },
    "colab_type": "code",
    "id": "lcfHa61049PH",
    "outputId": "dc989bab-cf14-44d2-9adb-6810c53df9c7"
   },
   "outputs": [],
   "source": [
    "# Load model and result in case colab reconnect and lost the files\n",
    "from google.colab import files\n",
    "\n",
    "# Download test results\n",
    "files.download('model/test_results.tsv')\n",
    "\n",
    "# Download model with highest index\n",
    "dir = [i for i in os.listdir('model') if 'model.ckpt-' in i]\n",
    "step = 0\n",
    "for name in dir:\n",
    "  new_step = int(name.split('.')[1][5:])\n",
    "  if new_step > step:\n",
    "    step = new_step\n",
    "for name in dir:\n",
    "  if 'model.ckpt-' + str(step) in name:\n",
    "    print('downloading ' + name)\n",
    "    files.download('model/' + name)"
   ]
  },
  {
   "cell_type": "markdown",
   "metadata": {
    "colab_type": "text",
    "id": "AUJgEmIyipD_"
   },
   "source": [
    "# Test Accuracy\n",
    "You could test its accuracy by setting do_eval=true when finetuning. Here, I added a multi-class confusion matrix to give more information about the prediction in order to tune the model or come up with improvement strategies."
   ]
  },
  {
   "cell_type": "code",
   "execution_count": null,
   "metadata": {
    "colab": {},
    "colab_type": "code",
    "id": "IDQw9Co6Gizo"
   },
   "outputs": [],
   "source": [
    "def plot_confusion_matrix(y_true, y_pred, classes, destination=None,\n",
    "                          normalize=False,\n",
    "                          title=None,\n",
    "                          cmap=plt.cm.Blues):\n",
    "    \"\"\"\n",
    "    This function prints and plots the confusion matrix.\n",
    "    Normalization can be applied by setting `normalize=True`.\n",
    "    \"\"\"\n",
    "    if not title:\n",
    "        if normalize:\n",
    "            title = 'Normalized confusion matrix'\n",
    "        else:\n",
    "            title = 'Confusion matrix, without normalization'\n",
    "\n",
    "    # Compute confusion matrix\n",
    "    #cm = np.array([[ 11, 2 , 40 ,  2], [  0  , 0 ,  0  , 0], [ 37  , 8 ,114  , 4], [ 11 ,  0  ,33 , 1]])\n",
    "    cm = confusion_matrix(y_true, y_pred)\n",
    "    # Only use the labels that appear in the data\n",
    "    #classes = classes[unique_labels(y_true, y_pred)]\n",
    "    if normalize:\n",
    "        cm = cm.astype('float') / cm.sum(axis=1)[:, np.newaxis]\n",
    "        print(\"Normalized confusion matrix\")\n",
    "    else:\n",
    "        print('Confusion matrix, without normalization')\n",
    "\n",
    "    print(cm)\n",
    "\n",
    "    fig, ax = plt.subplots()\n",
    "    im = ax.imshow(cm, interpolation='nearest', cmap=cmap)\n",
    "    ax.figure.colorbar(im, ax=ax)\n",
    "    # We want to show all ticks...\n",
    "    ax.set(xticks=np.arange(cm.shape[1]),\n",
    "           yticks=np.arange(cm.shape[0]),\n",
    "           # ... and label them with the respective list entries\n",
    "           xticklabels=classes, yticklabels=classes,\n",
    "           title=title,\n",
    "           ylabel='True label',\n",
    "           xlabel='Predicted label')\n",
    "\n",
    "    # Rotate the tick labels and set their alignment.\n",
    "    plt.setp(ax.get_xticklabels(), rotation=0, ha=\"right\",\n",
    "             rotation_mode=\"anchor\")\n",
    "\n",
    "    # Loop over data dimensions and create text annotations.\n",
    "    fmt = '.2f' if normalize else 'd'\n",
    "    thresh = cm.max() / 2.\n",
    "    for i in range(cm.shape[0]):\n",
    "        for j in range(cm.shape[1]):\n",
    "            ax.text(j, i, format(cm[i, j], fmt),\n",
    "                    ha=\"center\", va=\"center\",\n",
    "                    color=\"white\" if cm[i, j] > thresh else \"black\")\n",
    "    fig.tight_layout()\n",
    "    #plt.show()\n",
    "    try:\n",
    "        plt.savefig(destination)\n",
    "    except:\n",
    "        pass\n",
    "    \n",
    "    return ax"
   ]
  },
  {
   "cell_type": "code",
   "execution_count": null,
   "metadata": {
    "colab": {},
    "colab_type": "code",
    "id": "xnjkPeu8E2o3"
   },
   "outputs": [],
   "source": [
    "def compare_answer(row):\n",
    "  '''\n",
    "  Compares 2 columns of actual and predicted class. \n",
    "  \n",
    "  Returns:\n",
    "  -- 1 if they are the same\n",
    "  -- 0 otherwise.\n",
    "  '''\n",
    "  \n",
    "  if row['prediction'] == row['actual']:\n",
    "    return 1\n",
    "  else:\n",
    "    return 0"
   ]
  },
  {
   "cell_type": "code",
   "execution_count": null,
   "metadata": {
    "colab": {},
    "colab_type": "code",
    "id": "0e1viod5iq9W"
   },
   "outputs": [],
   "source": [
    "def benchmark(actual_path, pred_path):\n",
    "  '''\n",
    "  Calculates model accuracy and confusion matrix\n",
    "\n",
    "  Arguments:\n",
    "  actual_path -- path of test file which contains actual labels.\n",
    "  pred_path -- path of prediction file which contains predicted labels.\n",
    "\n",
    "  Returns:\n",
    "  accuracy -- accuracy of the prediction\n",
    "  confusion matrix -- save as image file\n",
    "  '''\n",
    "\n",
    "  # Read files to dataframes\n",
    "  actual = pd.read_csv(actual_path, sep=',')\n",
    "  pred = pd.read_csv(pred_path, sep='\\t')\n",
    "\n",
    "  # Create result dataframe\n",
    "  result = pred.copy()\n",
    "  result['prediction'] = result.idxmax(axis=1)\n",
    "  result['actual'] = actual['destination']\n",
    "  result['correct'] = result.apply(lambda row: compare_answer(row), axis=1)\n",
    "\n",
    "  # Calculate accuracy\n",
    "  accuracy = sum(result['correct'])/len(result)\n",
    "\n",
    "  # Confusion Matrix\n",
    "  confusion_matrix = plot_confusion_matrix(result['actual'], result['prediction'], classes=['billing and payment', 'promotions', 'internet', 'other queries', 'international dialing', 'true money', 'lost and stolen'], destination=None, normalize=False, title='Confusion Matrix')\n",
    "\n",
    "  return accuracy, result"
   ]
  },
  {
   "cell_type": "code",
   "execution_count": null,
   "metadata": {
    "colab": {
     "base_uri": "https://localhost:8080/",
     "height": 399
    },
    "colab_type": "code",
    "id": "MemX_MuZHzlw",
    "outputId": "25d6b662-6539-41a5-eda9-74123494b1b9",
    "scrolled": true
   },
   "outputs": [],
   "source": [
    "# Benchmark accuracy\n",
    "actual_path = 'truevoice-intent/mari_test.csv'\n",
    "pred_path = 'model/test_results.tsv'\n",
    "accuracy, result = benchmark(actual_path, pred_path)"
   ]
  }
 ],
 "metadata": {
  "accelerator": "GPU",
  "colab": {
   "collapsed_sections": [],
   "name": "bert_wongnai.ipynb",
   "provenance": [],
   "toc_visible": true
  },
  "kernelspec": {
   "display_name": "Python 3",
   "language": "python",
   "name": "python3"
  },
  "language_info": {
   "codemirror_mode": {
    "name": "ipython",
    "version": 3
   },
   "file_extension": ".py",
   "mimetype": "text/x-python",
   "name": "python",
   "nbconvert_exporter": "python",
   "pygments_lexer": "ipython3",
   "version": "3.5.2"
  }
 },
 "nbformat": 4,
 "nbformat_minor": 4
}